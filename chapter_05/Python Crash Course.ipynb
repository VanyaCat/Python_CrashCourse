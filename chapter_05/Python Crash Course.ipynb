{
 "cells": [
  {
   "cell_type": "markdown",
   "metadata": {},
   "source": [
    "## Conditionals"
   ]
  },
  {
   "cell_type": "code",
   "execution_count": 3,
   "metadata": {},
   "outputs": [
    {
     "name": "stdout",
     "output_type": "stream",
     "text": [
      "True\n",
      "False\n",
      "False\n",
      "True\n"
     ]
    }
   ],
   "source": [
    "#5-2\n",
    "#Evaluates strings as true or false\n",
    "string = 'Trew' \n",
    "print(string == 'Trew') #True\n",
    "print(string == 'Rroo') #False\n",
    "print(string != 'Trew') #False\n",
    "print(string.lower() == 'trew') #True"
   ]
  },
  {
   "cell_type": "code",
   "execution_count": 7,
   "metadata": {},
   "outputs": [
    {
     "name": "stdout",
     "output_type": "stream",
     "text": [
      "True\n",
      "True\n",
      "True\n",
      "False\n"
     ]
    }
   ],
   "source": [
    "#5-2\n",
    "#numerical tests\n",
    "age = 42\n",
    "items = [10, 15, 53, 'cat', 'bomb', 'dog', 65]\n",
    "print(age >= 10) #True\n",
    "print(age < 50) #True\n",
    "print(age > 10 & age < 50) #True\n",
    "print(age in items) #False"
   ]
  },
  {
   "cell_type": "code",
   "execution_count": 1,
   "metadata": {},
   "outputs": [],
   "source": [
    "#if statements\n",
    "#5-3\n",
    "alien_color = \"red\"\n",
    "if alien_color == 'green':\n",
    "    print(\"You just earned 5 points!\")"
   ]
  },
  {
   "cell_type": "code",
   "execution_count": 2,
   "metadata": {},
   "outputs": [
    {
     "name": "stdout",
     "output_type": "stream",
     "text": [
      "you just earned 10 points!\n"
     ]
    }
   ],
   "source": [
    "#5-4\n",
    "alien_color = \"red\"\n",
    "if alien_color == 'green':\n",
    "    print(\"You just earned 5 points!\")\n",
    "else:\n",
    "    print(\"you just earned 10 points!\")"
   ]
  },
  {
   "cell_type": "code",
   "execution_count": 4,
   "metadata": {},
   "outputs": [
    {
     "name": "stdout",
     "output_type": "stream",
     "text": [
      "You just earned 10 points!\n"
     ]
    }
   ],
   "source": [
    "#5-5\n",
    "alien_color = \"yellow\"\n",
    "if alien_color == 'green':\n",
    "    print(\"You just earned 5 points!\")\n",
    "elif alien_color == 'yellow':\n",
    "    print(\"You just earned 10 points!\")\n",
    "elif alien_color == 'red':\n",
    "    print(\"You just earned 15 points!\")"
   ]
  },
  {
   "cell_type": "code",
   "execution_count": 12,
   "metadata": {},
   "outputs": [
    {
     "name": "stdout",
     "output_type": "stream",
     "text": [
      "Adult\n"
     ]
    }
   ],
   "source": [
    "#5-6\n",
    "age = 42\n",
    "if age < 2:\n",
    "    stage = \"Baby\"\n",
    "elif age >= 2 and age < 4:\n",
    "    stage = \"Toddler\"\n",
    "elif age >= 4 and age < 13:\n",
    "    stage = \"Kid\"\n",
    "elif age >= 13 and age < 20:\n",
    "    stage = \"Teenager\"\n",
    "elif age >= 20 and age < 65:\n",
    "    stage = \"Adult\"\n",
    "elif age >= 65:\n",
    "    stage = \"Elder\"\n",
    "print(stage)\n",
    "    "
   ]
  },
  {
   "cell_type": "markdown",
   "metadata": {},
   "source": [
    "## Dictionaries"
   ]
  },
  {
   "cell_type": "code",
   "execution_count": 2,
   "metadata": {},
   "outputs": [
    {
     "name": "stdout",
     "output_type": "stream",
     "text": [
      "{'South Carolina': 803, 'San Diego': 858, 'Salt Lake City': 801}\n"
     ]
    }
   ],
   "source": [
    "#Starting with an empty dict\n",
    "area_codes = {}\n",
    "area_codes['South Carolina'] = 803\n",
    "area_codes['San Diego'] = 858\n",
    "area_codes['Salt Lake City'] = 801\n",
    "\n",
    "print(area_codes)"
   ]
  },
  {
   "cell_type": "code",
   "execution_count": null,
   "metadata": {},
   "outputs": [],
   "source": []
  }
 ],
 "metadata": {
  "kernelspec": {
   "display_name": "Python 3",
   "language": "python",
   "name": "python3"
  },
  "language_info": {
   "codemirror_mode": {
    "name": "ipython",
    "version": 3
   },
   "file_extension": ".py",
   "mimetype": "text/x-python",
   "name": "python",
   "nbconvert_exporter": "python",
   "pygments_lexer": "ipython3",
   "version": "3.7.9"
  }
 },
 "nbformat": 4,
 "nbformat_minor": 4
}
